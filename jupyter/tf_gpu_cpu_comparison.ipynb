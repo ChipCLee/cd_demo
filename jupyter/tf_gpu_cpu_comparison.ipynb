{
 "cells": [
  {
   "cell_type": "markdown",
   "id": "neural-nitrogen",
   "metadata": {},
   "source": [
    "# CPU/GPU Comparisons"
   ]
  },
  {
   "cell_type": "code",
   "execution_count": 3,
   "id": "defensive-cambridge",
   "metadata": {},
   "outputs": [
    {
     "name": "stdout",
     "output_type": "stream",
     "text": [
      "2 Physical GPUs, 2 Logical GPUs\n",
      "TF will attempt to allocate only as much GPU memory as needed for the runtime allocations\n"
     ]
    }
   ],
   "source": [
    "import tensorflow as tf\n",
    "gpus = tf.config.list_physical_devices('GPU')\n",
    "if gpus:\n",
    "  try:\n",
    "    # Currently, memory growth needs to be the same across GPUs\n",
    "    for gpu in gpus:\n",
    "      tf.config.experimental.set_memory_growth(gpu, True)\n",
    "    logical_gpus = tf.config.experimental.list_logical_devices('GPU')\n",
    "    print(len(gpus), \"Physical GPUs,\", len(logical_gpus), \"Logical GPUs\")\n",
    "  except RuntimeError as e:\n",
    "    # Memory growth must be set before GPUs have been initialized\n",
    "    print(e)\n",
    "print(\"TF will attempt to allocate only as much GPU memory as needed for the runtime allocations\")"
   ]
  },
  {
   "cell_type": "markdown",
   "id": "continent-liabilities",
   "metadata": {},
   "source": [
    "## Matrix Multiplication Example"
   ]
  },
  {
   "cell_type": "code",
   "execution_count": 4,
   "id": "native-research",
   "metadata": {},
   "outputs": [
    {
     "name": "stdout",
     "output_type": "stream",
     "text": [
      "Time to multiply a (1000, 1000) matrix by itself 200 times:\n",
      "CPU: 0.3459179401397705 secs\n",
      "GPU: 0.011883020401000977 secs\n",
      "GPU speedup over CPU: 29x\n"
     ]
    }
   ],
   "source": [
    "import time\n",
    "\n",
    "def measure(x, steps):\n",
    "    # TensorFlow initializes a GPU the first time it's used, exclude from timing.\n",
    "    tf.matmul(x, x)\n",
    "    start = time.time()\n",
    "    for i in range(steps):\n",
    "        x = tf.matmul(x, x)\n",
    "    # tf.matmul can return before completing the matrix multiplication\n",
    "    # (e.g., can return after enqueing the operation on a CUDA stream).\n",
    "    # The x.numpy() call below will ensure that all enqueued operations\n",
    "    # have completed (and will also copy the result to host memory,\n",
    "    # so we're including a little more than just the matmul operation time).\n",
    "    _ = x.numpy()\n",
    "    end = time.time()\n",
    "    return end - start\n",
    "\n",
    "shape = (1000, 1000)\n",
    "steps = 200\n",
    "print(\"Time to multiply a {} matrix by itself {} times:\".format(shape, steps))\n",
    "\n",
    "# Run on CPU:\n",
    "with tf.device(\"/cpu:0\"):\n",
    "    cpu_time1 = measure(tf.random.normal(shape), steps)\n",
    "    print(\"CPU: {} secs\".format(cpu_time1))\n",
    "\n",
    "# Run on GPU, if available:\n",
    "if tf.config.list_physical_devices(\"GPU\"):\n",
    "    with tf.device(\"/gpu:0\"):\n",
    "        gpu_time1 = measure(tf.random.normal(shape), steps)\n",
    "        print(\"GPU: {} secs\".format(gpu_time1))\n",
    "else:\n",
    "    print(\"GPU: not found\")\n",
    "\n",
    "print('GPU speedup over CPU: {}x'.format(int(cpu_time1/gpu_time1)))"
   ]
  },
  {
   "cell_type": "code",
   "execution_count": null,
   "id": "expensive-clinic",
   "metadata": {},
   "outputs": [],
   "source": []
  }
 ],
 "metadata": {
  "kernelspec": {
   "display_name": "Python 3",
   "language": "python",
   "name": "python3"
  },
  "language_info": {
   "codemirror_mode": {
    "name": "ipython",
    "version": 3
   },
   "file_extension": ".py",
   "mimetype": "text/x-python",
   "name": "python",
   "nbconvert_exporter": "python",
   "pygments_lexer": "ipython3",
   "version": "3.11.9"
  }
 },
 "nbformat": 4,
 "nbformat_minor": 5
}
